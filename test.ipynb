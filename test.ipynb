{
 "cells": [
  {
   "cell_type": "code",
   "execution_count": null,
   "id": "d7dc37fe-8f25-4d98-8b7d-c7e422c527b0",
   "metadata": {},
   "outputs": [],
   "source": [
    "import pandas as pd\n",
    "import numpy as np\n",
    "import seaborn as sns"
   ]
  },
  {
   "cell_type": "code",
   "execution_count": null,
   "id": "44ab02ec",
   "metadata": {},
   "outputs": [],
   "source": [
    "df = sns.load_dataset('planets')"
   ]
  },
  {
   "cell_type": "markdown",
   "id": "c71c80ce",
   "metadata": {},
   "source": [
    "### Print/ Display the first 5 rows of dataframe"
   ]
  },
  {
   "cell_type": "code",
   "execution_count": null,
   "id": "f57c2abf-fa5a-4b72-953f-3e63422dcdde",
   "metadata": {},
   "outputs": [],
   "source": [
    "first_5_row = df.head(5)\n",
    "print(first_5_row)"
   ]
  },
  {
   "cell_type": "markdown",
   "id": "4e6de99b",
   "metadata": {},
   "source": [
    "### Print/ Display the last 5 rows of dataframe"
   ]
  },
  {
   "cell_type": "code",
   "execution_count": null,
   "id": "4c27adad-ccd9-4871-8d81-dcc11c742dae",
   "metadata": {},
   "outputs": [],
   "source": [
    "last_5_row = df.tail(5)\n",
    "print(last_5_row)"
   ]
  },
  {
   "cell_type": "markdown",
   "id": "a9b8b16a",
   "metadata": {},
   "source": [
    "### How many unique methods are there?"
   ]
  },
  {
   "cell_type": "code",
   "execution_count": null,
   "id": "0d1c2921-d5e5-4e3a-b00f-e8db7201b5b1",
   "metadata": {},
   "outputs": [],
   "source": [
    "num_unique_methods = df['method'].nunique()\n",
    "print(f\"there are {num_unique_methods} unique methods.\")\n"
   ]
  },
  {
   "cell_type": "markdown",
   "id": "aafdaf4f",
   "metadata": {},
   "source": [
    "### What is the number of data collected in each year?"
   ]
  },
  {
   "cell_type": "code",
   "execution_count": null,
   "id": "ded13474",
   "metadata": {},
   "outputs": [],
   "source": [
    "value_counts = df['year'].value_counts()\n",
    "print(value_counts)"
   ]
  },
  {
   "cell_type": "markdown",
   "id": "7eb182d6",
   "metadata": {},
   "source": [
    "### Which columns have missing values and how many?"
   ]
  },
  {
   "cell_type": "code",
   "execution_count": null,
   "id": "66e101d9",
   "metadata": {},
   "outputs": [],
   "source": [
    "for col in df.columns:\n",
    "    if df[col].isnull().any():\n",
    "        num_mvalues = df[col].isnull().sum()\n",
    "        print(f\"column '{col}' has {num_mvalues} missing values\")\n",
    "print(\"other columns dont have any missing values.\")"
   ]
  },
  {
   "cell_type": "markdown",
   "id": "4bc06869",
   "metadata": {},
   "source": [
    "### Write docstring for the function below."
   ]
  },
  {
   "cell_type": "code",
   "execution_count": null,
   "id": "d7cdb8f3",
   "metadata": {},
   "outputs": [],
   "source": [
    "def do_something(x, y, z):\n",
    "    \"\"\"\n",
    "    calculates the '1 / ((1/x) + (1/y) + (1/z))' and returns it.\n",
    "\n",
    "    Args:\n",
    "    x (float): argument x for the calculation.\n",
    "    y (float): argument y for the calculation.\n",
    "    z (float): argument z for the calculation.\n",
    "\n",
    "    Returns:\n",
    "    float: the result of the calculation.\n",
    "    \"\"\"   \n",
    "\n",
    "    result = 1 / x + 1 / y + 1 / z\n",
    "\n",
    "    return 1 / result"
   ]
  },
  {
   "cell_type": "markdown",
   "id": "e096126e",
   "metadata": {},
   "source": [
    "### Get (print) the docstring of the function defined above."
   ]
  },
  {
   "cell_type": "code",
   "execution_count": null,
   "id": "de16fb89",
   "metadata": {},
   "outputs": [],
   "source": [
    "print(do_something.__doc__)"
   ]
  },
  {
   "cell_type": "markdown",
   "id": "99e621e3",
   "metadata": {},
   "source": [
    "### Call do_something function for the (11,13,15) values and save it as result"
   ]
  },
  {
   "cell_type": "code",
   "execution_count": null,
   "id": "00716e56",
   "metadata": {},
   "outputs": [],
   "source": [
    "result = do_something(11,13,15)"
   ]
  },
  {
   "cell_type": "markdown",
   "id": "e65c98c4",
   "metadata": {},
   "source": [
    "### In the variable 's' containing a sentence, extract the word using result defined above as index"
   ]
  },
  {
   "cell_type": "code",
   "execution_count": null,
   "id": "3174ab91",
   "metadata": {},
   "outputs": [],
   "source": [
    "s = \"I love Machine Learning and Deep Learning\"\n",
    "\n",
    "# use int() to convert the result to integer\n",
    "# your code here\n",
    "s = s.split()\n",
    "index = int(result)\n",
    "s = s[:index] + s[index+1:]\n",
    "\n",
    "print(s)"
   ]
  },
  {
   "cell_type": "markdown",
   "id": "8a109460",
   "metadata": {},
   "source": [
    "### Sort the given array below, do not use built in functions. All sorting methods are allowed."
   ]
  },
  {
   "cell_type": "code",
   "execution_count": null,
   "id": "793c693e",
   "metadata": {},
   "outputs": [],
   "source": [
    "import random\n",
    "\n",
    "arr = [random.randint(1, 100) for i in range(10)]\n",
    "\n",
    "def merge_sort(arr):\n",
    "    ## doesn't return anything, modifies the array.\n",
    "    if len(arr) <= 1:\n",
    "        return\n",
    "\n",
    "    mid = len(arr) // 2\n",
    "    L = arr[:mid]\n",
    "    R = arr[mid:]\n",
    "    merge_sort(L)\n",
    "    merge_sort(R)\n",
    "    i = j = k = 0\n",
    "    while i < len(L) and j < len(R):\n",
    "        if L[i] <= R[j]:\n",
    "            arr[k] = L[i]\n",
    "            i += 1\n",
    "        else:\n",
    "            arr[k] = R[j]\n",
    "            j += 1\n",
    "        k += 1\n",
    "\n",
    "    while i < len(L):\n",
    "        arr[k] = L[i]\n",
    "        i += 1\n",
    "        k += 1\n",
    "\n",
    "    while j < len(R):\n",
    "        arr[k] = R[j]\n",
    "        j += 1\n",
    "        k += 1\n",
    "\n",
    "\n",
    "print(\"before sort:\", arr)\n",
    "merge_sort(arr)\n",
    "print(\"after sort:\", arr)\n"
   ]
  },
  {
   "cell_type": "markdown",
   "id": "77a7b32b",
   "metadata": {},
   "source": [
    "### define a recursive function to calculate input numbers factorial named factorial"
   ]
  },
  {
   "cell_type": "code",
   "execution_count": null,
   "id": "ac9e6d6c",
   "metadata": {},
   "outputs": [],
   "source": [
    "def factorial(x):\n",
    "    if x == 1:\n",
    "        return 1\n",
    "    else:\n",
    "        return x * fact(x-1)\n",
    "\n",
    "rand_int = random.randint(1,20)\n",
    "print(f\"factorial({rand_int}) = {factorial(rand_int)}\")"
   ]
  },
  {
   "cell_type": "markdown",
   "id": "f7241c1b",
   "metadata": {},
   "source": [
    "### define a function to merge the given arrays and calculate the median named twoMedian"
   ]
  },
  {
   "cell_type": "code",
   "execution_count": null,
   "id": "e29c62b3",
   "metadata": {},
   "outputs": [],
   "source": [
    "def twoMedian(arr1, arr2):\n",
    "    arr = arr1 + arr2\n",
    "    merge_sort(arr) ## using the merge_sort function which i've written for one of the previous questions. i hope thats not illegal :).\n",
    "    l = len(arr)\n",
    "    if l % 2 == 1:\n",
    "        return arr[(l // 2)]\n",
    "    else:\n",
    "        return (arr[(l//2) - 1] + arr[(l//2)]) / 2\n",
    "    \n",
    "arr1 = [random.randint(1, 100) for i in range(10)]\n",
    "arr2 = [random.randint(1, 100) for i in range(10)]\n",
    "print(arr1, arr2)\n",
    "print(twoMedian(arr1, arr2))"
   ]
  }
 ],
 "metadata": {
  "kernelspec": {
   "display_name": "Python 3 (ipykernel)",
   "language": "python",
   "name": "python3"
  },
  "language_info": {
   "codemirror_mode": {
    "name": "ipython",
    "version": 3
   },
   "file_extension": ".py",
   "mimetype": "text/x-python",
   "name": "python",
   "nbconvert_exporter": "python",
   "pygments_lexer": "ipython3",
   "version": "3.10.12"
  }
 },
 "nbformat": 4,
 "nbformat_minor": 5
}
